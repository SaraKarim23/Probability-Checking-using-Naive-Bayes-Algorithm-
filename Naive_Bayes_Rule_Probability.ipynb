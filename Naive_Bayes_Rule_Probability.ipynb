{
  "nbformat": 4,
  "nbformat_minor": 0,
  "metadata": {
    "colab": {
      "name": "Naive Bayes Rule-Probability.ipynb",
      "provenance": [],
      "authorship_tag": "ABX9TyMniM01THLMTOC3eT33eqmI",
      "include_colab_link": true
    },
    "kernelspec": {
      "name": "python3",
      "display_name": "Python 3"
    }
  },
  "cells": [
    {
      "cell_type": "markdown",
      "metadata": {
        "id": "view-in-github",
        "colab_type": "text"
      },
      "source": [
        "<a href=\"https://colab.research.google.com/github/SaraKarim23/Probability_Checking-using-Naive-Bayes-Algorithm-/blob/main/Naive_Bayes_Rule_Probability.ipynb\" target=\"_parent\"><img src=\"https://colab.research.google.com/assets/colab-badge.svg\" alt=\"Open In Colab\"/></a>"
      ]
    },
    {
      "cell_type": "markdown",
      "metadata": {
        "id": "2sdt3ibVisIZ"
      },
      "source": [
        "Bayes' rule is a useful tool that computes the conditional probability P(x|y) from P(y|x). Here\r\n",
        "\r\n",
        "    P(x|y) is called the posterior; this is what we are trying to estimate,\r\n",
        "    P(y|x) is called the likelihood; this is the probability of observing the new evidence, given our initial hypothesis,\r\n",
        "    P(x) is called the prior; this is the probability of our hypothesis without any additional prior information,\r\n",
        "    P(y) is called the marginal likelihood; this is the total probability of observing the evidence.\r\n",
        "\r\n",
        "The Bayes' rule can be summed up as:\r\n",
        "\r\n",
        "                                                  P(x|y)=P(x) P(y|x)P(y)\r\n",
        "\r\n"
      ]
    },
    {
      "cell_type": "markdown",
      "metadata": {
        "id": "95knAI77hyvk"
      },
      "source": [
        "Imagine,\r\n",
        "\r\n",
        "There are 2 cookie box:\r\n",
        "\r\n",
        "Box 1 has 30 vanilla cookies and 10 chocolate cookies\r\n",
        "\r\n",
        "Box 2 has 20 vanilla cookies and 20 chocolate cookies. \r\n",
        "\r\n",
        "You randomly pick one cookie from one randomly chosen box. It is vanilla.\r\n",
        "\r\n",
        "What is the probability it was from Box 1?\r\n",
        "\r\n",
        "So we are looking for P(Box 1 | Vanilla).\r\n"
      ]
    },
    {
      "cell_type": "markdown",
      "metadata": {
        "id": "4LVsOT-wMCMG"
      },
      "source": [
        "# Probability of picking between Box 1 and 2:\r\n",
        "The Prior probability"
      ]
    },
    {
      "cell_type": "code",
      "metadata": {
        "id": "UyHMd6z-MJ7g"
      },
      "source": [
        "p_box_1 = 1/2"
      ],
      "execution_count": null,
      "outputs": []
    },
    {
      "cell_type": "markdown",
      "metadata": {
        "id": "_ooOA_oDMLql"
      },
      "source": [
        "# Vanilla / total cookies : \r\n",
        "The likelihood"
      ]
    },
    {
      "cell_type": "code",
      "metadata": {
        "id": "_i7CfLRbMWSn"
      },
      "source": [
        "p_vanilla_given_box_1 = 30/(30+10)"
      ],
      "execution_count": null,
      "outputs": []
    },
    {
      "cell_type": "markdown",
      "metadata": {
        "id": "jYJpavEkMZ2m"
      },
      "source": [
        "# Total vanilla cookies / Total cookies: \r\n",
        "The marginal likelihood"
      ]
    },
    {
      "cell_type": "code",
      "metadata": {
        "id": "rEU6sGPZMf4l"
      },
      "source": [
        "p_vanilla = (30+20) / (30+10 + 20+20)"
      ],
      "execution_count": null,
      "outputs": []
    },
    {
      "cell_type": "markdown",
      "metadata": {
        "id": "fCgpcSGLMisn"
      },
      "source": [
        "# Bayes' rule"
      ]
    },
    {
      "cell_type": "code",
      "metadata": {
        "id": "J1IKvmVxMot9"
      },
      "source": [
        "p_box_1_given_vanilla = (p_box_1 * p_vanilla_given_box_1) / p_vanilla"
      ],
      "execution_count": null,
      "outputs": []
    },
    {
      "cell_type": "code",
      "metadata": {
        "colab": {
          "base_uri": "https://localhost:8080/"
        },
        "id": "MtIFEM5YMpyG",
        "outputId": "da61cf34-3143-4a71-abe1-ccb510dc6127"
      },
      "source": [
        "print('P(Box 1 | Vanilla) = {}'.format(p_box_1_given_vanilla))"
      ],
      "execution_count": null,
      "outputs": [
        {
          "output_type": "stream",
          "text": [
            "P(Box 1 | Vanilla) = 0.6\n"
          ],
          "name": "stdout"
        }
      ]
    }
  ]
}